{
 "cells": [
  {
   "cell_type": "code",
   "execution_count": null,
   "metadata": {
    "scrolled": false
   },
   "outputs": [],
   "source": [
    "#import sys\n",
    "import scicm\n",
    "import numpy as np\n",
    "#import pkg_resources\n",
    "import splotch as sp\n",
    "import matplotlib.cm as cm\n",
    "#from inspect import signature\n",
    "#import matplotlib.colors as mcol\n",
    "import matplotlib.pyplot as plot\n",
    "#from matplotlib import colormaps as cm\n",
    "from colorspacious import cspace_convert\n",
    "#from matplotlib.colors import LinearSegmentedColormap as LSC"
   ]
  },
  {
   "cell_type": "code",
   "execution_count": null,
   "metadata": {},
   "outputs": [],
   "source": [
    "%matplotlib inline\n",
    "sp.use_style('/home/mbravo/Documents/pypati.style')"
   ]
  },
  {
   "cell_type": "code",
   "execution_count": null,
   "metadata": {},
   "outputs": [],
   "source": [
    "rng=np.random.default_rng()"
   ]
  },
  {
   "cell_type": "code",
   "execution_count": null,
   "metadata": {},
   "outputs": [],
   "source": [
    "def linear_map(l,a,p0):\n",
    "    x=l*np.cos(a)+p0[0]\n",
    "    y=l*np.sin(a)+p0[1]\n",
    "    return(x,y)"
   ]
  },
  {
   "cell_type": "code",
   "execution_count": null,
   "metadata": {},
   "outputs": [],
   "source": [
    "cmap2D=[]\n",
    "a,b=linear_map(np.linspace(0,30,256),90,(20,-15))\n",
    "for i,J in enumerate(np.linspace(25,75,256)):\n",
    "    cmap2D.append([])\n",
    "    for j in range(256):\n",
    "        cmap2D[i].append([J,a[j],b[j]])\n",
    "cmap2D=np.array(cmap2D)\n",
    "\n",
    "cmap2D_sRGB=cspace_convert(cmap2D,'CAM02-UCS','sRGB1')\n",
    "for i in range(256):\n",
    "    for j in range(256):\n",
    "        if np.sum((cmap2D_sRGB[i,j,:]<0)|(cmap2D_sRGB[i,j,:]>1))>0:\n",
    "            cmap2D_sRGB[i,j,:]=0"
   ]
  },
  {
   "cell_type": "code",
   "execution_count": null,
   "metadata": {},
   "outputs": [],
   "source": [
    "plot.imshow(cmap2D_sRGB,origin='lower')\n",
    "ax=plot.gca()\n",
    "ax.set_xticks([i*64 for i in range(5)])\n",
    "ax.set_yticks([i*64 for i in range(5)])\n",
    "plot.show()"
   ]
  },
  {
   "cell_type": "code",
   "execution_count": null,
   "metadata": {},
   "outputs": [],
   "source": []
  }
 ],
 "metadata": {
  "kernelspec": {
   "display_name": "Python 3 (ipykernel)",
   "language": "python",
   "name": "python3"
  },
  "language_info": {
   "codemirror_mode": {
    "name": "ipython",
    "version": 3
   },
   "file_extension": ".py",
   "mimetype": "text/x-python",
   "name": "python",
   "nbconvert_exporter": "python",
   "pygments_lexer": "ipython3",
   "version": "3.9.7"
  }
 },
 "nbformat": 4,
 "nbformat_minor": 2
}
