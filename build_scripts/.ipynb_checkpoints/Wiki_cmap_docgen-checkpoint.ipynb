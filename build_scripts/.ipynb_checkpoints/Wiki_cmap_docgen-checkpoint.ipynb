{
 "cells": [
  {
   "cell_type": "code",
   "execution_count": null,
   "id": "hybrid-drain",
   "metadata": {},
   "outputs": [],
   "source": [
    "import glob"
   ]
  },
  {
   "cell_type": "code",
   "execution_count": null,
   "id": "legislative-kernel",
   "metadata": {},
   "outputs": [],
   "source": [
    "cmaps_monochromat=['Blue','Cyan','Green','Magenta','Orange','Purple','Red','Stone','Teal','Yellow']\n",
    "cmaps_soft=[f.split('/')[-1].replace('.txt','') for f in sorted(glob.glob('../scicm/cm_data/Soft*txt'))]\n",
    "cmaps_bichromat=[f.split('/')[-1].replace('.txt','') for f in sorted(glob.glob('../scicm/cm_data/[A-Z]2[A-Z].txt'))]\n",
    "cmaps_bichromat_grey=[f.split('/')[-1].replace('.txt','') for f in sorted(glob.glob('../scicm/cm_data/[A-Z]grey[A-Z].txt'))]\n",
    "cmaps_diverging_k=[f.split('/')[-1].replace('.txt','') for f in sorted(glob.glob('../scicm/cm_data/[A-Z]k[A-Z].txt'))]\n",
    "cmaps_diverging_w=[f.split('/')[-1].replace('.txt','') for f in sorted(glob.glob('../scicm/cm_data/[A-Z]w[A-Z].txt'))]\n",
    "cmaps_segmented=[f.split('/')[-1].replace('.txt','') for f in sorted(glob.glob('../scicm/cm_data/*2080.txt'))]+['Quartile']\n",
    "cmaps_miscellaneous=['Day','Night','Garnet','Ripe','Tropical']+[f.split('/')[-1].replace('.txt','') for f in sorted(glob.glob('../scicm/cm_data/iso*.txt'))]\n",
    "cmaps_all=cmaps_monochromat+cmaps_soft+cmaps_bichromat+cmaps_bichromat_grey+cmaps_diverging_k+cmaps_diverging_w+cmaps_segmented+cmaps_miscellaneous"
   ]
  },
  {
   "cell_type": "code",
   "execution_count": null,
   "id": "significant-corpus",
   "metadata": {},
   "outputs": [],
   "source": [
    "template_str='''## scicm.cm.placeholder\n",
    "\n",
    "<p align=\"center\">\n",
    "    <img src=\"https://raw.githubusercontent.com/MBravoS/scicm/master/images/cmap_examples/placeholder.png\" width=\"600\">\n",
    "</p>\n",
    "<p align=\"center\">\n",
    "    <img src=\"https://raw.githubusercontent.com/MBravoS/scicm/master/images/viscm/placeholder.png\" width=\"900\">\n",
    "</p>\n",
    "\\n'''"
   ]
  },
  {
   "cell_type": "code",
   "execution_count": null,
   "id": "amino-buddy",
   "metadata": {},
   "outputs": [],
   "source": [
    "file_doc=''\n",
    "for cm in cmaps_monochromat:\n",
    "    file_doc+=template_str.replace('placeholder',cm)\n",
    "\n",
    "with open('../../scicm.wiki/Monochromatic-colour-maps.md','w') as text_file:\n",
    "    text_file.write(file_doc)"
   ]
  },
  {
   "cell_type": "code",
   "execution_count": null,
   "id": "virtual-malawi",
   "metadata": {},
   "outputs": [],
   "source": [
    "file_doc=''\n",
    "for cm in cmaps_soft:\n",
    "    file_doc+=template_str.replace('placeholder',cm)\n",
    "\n",
    "with open('../../scicm.wiki/Soft-colour-maps.md','w') as text_file:\n",
    "    text_file.write(file_doc)"
   ]
  },
  {
   "cell_type": "code",
   "execution_count": null,
   "id": "drawn-camping",
   "metadata": {},
   "outputs": [],
   "source": [
    "file_doc=''\n",
    "for cm in cmaps_bichromat:\n",
    "    file_doc+=template_str.replace('placeholder',cm)\n",
    "\n",
    "with open('../../scicm.wiki/Bichromatic-colour-maps.md','w') as text_file:\n",
    "    text_file.write(file_doc)"
   ]
  },
  {
   "cell_type": "code",
   "execution_count": null,
   "id": "powered-individual",
   "metadata": {},
   "outputs": [],
   "source": [
    "file_doc=''\n",
    "for cm in cmaps_bichromat_grey:\n",
    "    file_doc+=template_str.replace('placeholder',cm)\n",
    "\n",
    "with open('../../scicm.wiki/Bichromatic-(grey-midpoint)-colour-maps.md','w') as text_file:\n",
    "    text_file.write(file_doc)"
   ]
  },
  {
   "cell_type": "code",
   "execution_count": null,
   "id": "removable-mason",
   "metadata": {},
   "outputs": [],
   "source": [
    "file_doc=''\n",
    "for cm in cmaps_diverging_k:\n",
    "    file_doc+=template_str.replace('placeholder',cm)\n",
    "\n",
    "with open('../../scicm.wiki/Diverging-(black-midpoint)-colour-maps.md','w') as text_file:\n",
    "    text_file.write(file_doc)"
   ]
  },
  {
   "cell_type": "code",
   "execution_count": null,
   "id": "atomic-tournament",
   "metadata": {},
   "outputs": [],
   "source": [
    "file_doc=''\n",
    "for cm in cmaps_diverging_w:\n",
    "    file_doc+=template_str.replace('placeholder',cm)\n",
    "\n",
    "with open('../../scicm.wiki/Diverging-(white-midpoint)-colour-maps.md','w') as text_file:\n",
    "    text_file.write(file_doc)"
   ]
  },
  {
   "cell_type": "code",
   "execution_count": null,
   "id": "expected-relations",
   "metadata": {},
   "outputs": [],
   "source": [
    "file_doc=''\n",
    "for cm in cmaps_segmented:\n",
    "    file_doc+=template_str.replace('placeholder',cm)\n",
    "\n",
    "with open('../../scicm.wiki/Segmented-colour-maps.md','w') as text_file:\n",
    "    text_file.write(file_doc)"
   ]
  },
  {
   "cell_type": "code",
   "execution_count": null,
   "id": "referenced-storage",
   "metadata": {},
   "outputs": [],
   "source": [
    "file_doc=''\n",
    "for cm in cmaps_miscellaneous:\n",
    "    file_doc+=template_str.replace('placeholder',cm)\n",
    "\n",
    "with open('../../scicm.wiki/Miscellaneous-colour-maps.md','w') as text_file:\n",
    "    text_file.write(file_doc)"
   ]
  },
  {
   "cell_type": "code",
   "execution_count": null,
   "id": "coral-softball",
   "metadata": {},
   "outputs": [],
   "source": []
  }
 ],
 "metadata": {
  "kernelspec": {
   "display_name": "Python 3",
   "language": "python",
   "name": "python3"
  },
  "language_info": {
   "codemirror_mode": {
    "name": "ipython",
    "version": 3
   },
   "file_extension": ".py",
   "mimetype": "text/x-python",
   "name": "python",
   "nbconvert_exporter": "python",
   "pygments_lexer": "ipython3",
   "version": "3.8.5"
  }
 },
 "nbformat": 4,
 "nbformat_minor": 5
}
