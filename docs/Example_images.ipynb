{
 "cells": [
  {
   "cell_type": "code",
   "execution_count": null,
   "id": "satisfied-fantasy",
   "metadata": {},
   "outputs": [],
   "source": [
    "import scicm\n",
    "import numpy as np\n",
    "import splotch as sp\n",
    "import matplotlib.pyplot as plot\n",
    "%matplotlib inline"
   ]
  },
  {
   "cell_type": "code",
   "execution_count": null,
   "id": "contemporary-profession",
   "metadata": {},
   "outputs": [],
   "source": [
    "cmaps={'linear1':{'Blue','Cyan','Green','Magenta','Orange','Purple','Red','Stone','Yellow'},\n",
    "       'linear2':{'B2C','B2P','C2G','G2Y','M2R','O2Y','P2M','R2O'},\n",
    "       'diverging':{'BkG','BkR','BwR','CkO','GkP','GwP','PkO','YkM'},\n",
    "       'miscellaneous':{'Quartile'}}"
   ]
  },
  {
   "cell_type": "code",
   "execution_count": null,
   "id": "assigned-parking",
   "metadata": {
    "scrolled": false
   },
   "outputs": [],
   "source": [
    "nrows = np.max([len(cmap_list) for cmap_category,cmap_list in cmaps.items()])\n",
    "gradient = np.linspace(0, 1, 256)\n",
    "gradient = np.vstack((gradient, gradient))\n",
    "\n",
    "def plot_color_gradients(cmap_category, cmap_list, nrows):\n",
    "    fig, axes = plot.subplots(nrows=nrows,figsize=(10,nrows),facecolor='white')\n",
    "    fig.subplots_adjust(top=0.94, bottom=0.02, left=0.14, right=0.99)\n",
    "    axes[0].set_title(cmap_category + ' colormaps', fontsize=30)\n",
    "\n",
    "    for ax, name in zip(axes, cmap_list):\n",
    "        ax.imshow(gradient, aspect='auto', cmap=f'scicm.{name}')\n",
    "        pos = list(ax.get_position().bounds)\n",
    "        x_text = pos[0] - 0.01\n",
    "        y_text = pos[1] + pos[3]/2.\n",
    "        fig.text(x_text, y_text, name, va='center', ha='right', fontsize=20)\n",
    "\n",
    "    # Turn off *all* ticks & spines, not just the ones with colormaps.\n",
    "    for ax in axes:\n",
    "        ax.set_axis_off()\n",
    "    #plot.tight_layout()\n",
    "    plot.savefig(f'scicm_{cmap_category}.png',dpi=200)\n",
    "\n",
    "for cmap_category, cmap_list in cmaps.items():\n",
    "    plot_color_gradients(cmap_category, sorted(cmap_list), nrows)\n",
    "\n",
    "plot.show()"
   ]
  },
  {
   "cell_type": "code",
   "execution_count": null,
   "id": "injured-perfume",
   "metadata": {},
   "outputs": [],
   "source": []
  }
 ],
 "metadata": {
  "kernelspec": {
   "display_name": "Python 3",
   "language": "python",
   "name": "python3"
  },
  "language_info": {
   "codemirror_mode": {
    "name": "ipython",
    "version": 3
   },
   "file_extension": ".py",
   "mimetype": "text/x-python",
   "name": "python",
   "nbconvert_exporter": "python",
   "pygments_lexer": "ipython3",
   "version": "3.8.5"
  }
 },
 "nbformat": 4,
 "nbformat_minor": 5
}
