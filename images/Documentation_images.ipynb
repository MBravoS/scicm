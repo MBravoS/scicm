{
 "cells": [
  {
   "cell_type": "code",
   "execution_count": null,
   "id": "simple-philippines",
   "metadata": {},
   "outputs": [],
   "source": [
    "import scicm\n",
    "import cmasher\n",
    "import cmocean\n",
    "import numpy as np\n",
    "import matplotlib.cm as cm\n",
    "import astropy.io.fits as fits\n",
    "import matplotlib.pyplot as plot\n",
    "from matplotlib import patheffects as pe\n",
    "from matplotlib.colors import LightSource\n",
    "\n",
    "%matplotlib inline"
   ]
  },
  {
   "cell_type": "markdown",
   "id": "naked-statement",
   "metadata": {},
   "source": [
    "# Perceptual uniformity"
   ]
  },
  {
   "cell_type": "code",
   "execution_count": null,
   "id": "addressed-shannon",
   "metadata": {},
   "outputs": [],
   "source": [
    "x_range=np.linspace(0,200,72*32+1)*np.pi\n",
    "ramp=np.linspace(0,1,len(x_range))\n",
    "kovesi_test=np.array([(y**2)*0.1*np.sin(x_range)+ramp for y in np.linspace(1,0,24*32+1)])\n",
    "kovesi_test-=np.min(kovesi_test)\n",
    "kovesi_test/=np.max(kovesi_test)\n",
    "rng=np.random.default_rng()"
   ]
  },
  {
   "cell_type": "code",
   "execution_count": null,
   "id": "sustainable-norman",
   "metadata": {},
   "outputs": [],
   "source": [
    "fig,fax=plot.subplots(figsize=(9,6),dpi=200,nrows=2)\n",
    "\n",
    "fax[0].plot(x_range,kovesi_test[0,:])\n",
    "fax[0].set_xlim(0,200*np.pi)\n",
    "fax[0].set_ylim(0,1)\n",
    "fax[0].set_xticks((0,100,200,300,400,500,600),labels=(0,100,200,300,400,500,600),path_effects=[pe.withStroke(linewidth=2,foreground='w')])\n",
    "fax[0].set_yticks((0,0.2,0.4,0.6,0.8,1),labels=(0,0.2,0.4,0.6,0.8,1),path_effects=[pe.withStroke(linewidth=2,foreground='w')])\n",
    "\n",
    "fax[1].imshow(kovesi_test,cmap=cmocean.cm.gray)\n",
    "fax[1].set_axis_off()\n",
    "\n",
    "plot.tight_layout()\n",
    "plot.savefig('use_examples/documentation_example_1.png')\n",
    "plot.show()"
   ]
  },
  {
   "cell_type": "code",
   "execution_count": null,
   "id": "important-performer",
   "metadata": {},
   "outputs": [],
   "source": [
    "fig,fax=plot.subplots(figsize=(9,6),dpi=200,nrows=2,gridspec_kw={'hspace':0})\n",
    "\n",
    "fax[0].imshow(kovesi_test[::-1,:],cmap='nipy_spectral')\n",
    "fax[0].set_axis_off()\n",
    "\n",
    "fax[1].imshow(kovesi_test,cmap='magma')\n",
    "fax[1].set_axis_off()\n",
    "\n",
    "fig.suptitle('matplotlib.cm.nipy_spectral (top) and matplotlib.cm.magma (bottom)',\n",
    "             path_effects=[pe.withStroke(linewidth=2,foreground='w')])\n",
    "\n",
    "plot.tight_layout()\n",
    "plot.savefig('use_examples/documentation_example_2.png')\n",
    "plot.show()"
   ]
  },
  {
   "cell_type": "code",
   "execution_count": null,
   "id": "responsible-piano",
   "metadata": {},
   "outputs": [],
   "source": [
    "fig,fax=plot.subplots(figsize=(9,6),dpi=200,nrows=2,gridspec_kw={'hspace':0})\n",
    "\n",
    "fax[0].imshow(kovesi_test[::-1,:],cmap=cmocean.cm.gray)\n",
    "fax[0].set_axis_off()\n",
    "\n",
    "fax[1].imshow(kovesi_test,cmap=cmasher.cm.chroma)\n",
    "fax[1].set_axis_off()\n",
    "\n",
    "fig.suptitle('cmocean.cm.gray (top) and cmasher.cm.chroma (bottom)',\n",
    "             path_effects=[pe.withStroke(linewidth=2,foreground='w')])\n",
    "\n",
    "plot.tight_layout()\n",
    "plot.savefig('use_examples/documentation_example_3.png')\n",
    "plot.show()"
   ]
  },
  {
   "cell_type": "code",
   "execution_count": null,
   "id": "bottom-playback",
   "metadata": {},
   "outputs": [],
   "source": [
    "x1=np.array([np.cos(np.linspace(-3.14,3.14,300)) for i in range(300)])\n",
    "y1=np.array([np.sin(np.linspace(-3.14,3.14,300)) for i in range(300)]).T"
   ]
  },
  {
   "cell_type": "code",
   "execution_count": null,
   "id": "combined-tracker",
   "metadata": {},
   "outputs": [],
   "source": [
    "fig,fax=plot.subplots(figsize=(9,4.5),dpi=200,ncols=2,gridspec_kw={'wspace':0})\n",
    "\n",
    "fax[0].imshow(x1*y1,cmap=cmocean.cm.gray)\n",
    "fax[0].set_axis_off()\n",
    "\n",
    "fax[1].imshow(x1*y1,cmap=cmasher.cm.chroma)\n",
    "fax[1].set_axis_off()\n",
    "\n",
    "plot.tight_layout()\n",
    "plot.savefig('use_examples/documentation_example_4.png')\n",
    "plot.show()"
   ]
  },
  {
   "cell_type": "markdown",
   "id": "based-contribution",
   "metadata": {},
   "source": [
    "# Monochromatic and Soft"
   ]
  },
  {
   "cell_type": "code",
   "execution_count": null,
   "id": "impressive-adaptation",
   "metadata": {},
   "outputs": [],
   "source": [
    "fig,fax=plot.subplots(figsize=(9,6),dpi=200,nrows=2,gridspec_kw={'hspace':0})\n",
    "\n",
    "fax[0].imshow(kovesi_test[::-1,:],cmap='scicm.Blue')\n",
    "fax[0].set_axis_off()\n",
    "\n",
    "fax[1].imshow(kovesi_test,cmap='scicm.SoftBlue')\n",
    "fax[1].set_axis_off()\n",
    "\n",
    "fig.suptitle('scicm.cm.Blue (top) and scicm.cm.SoftBlue (bottom)',\n",
    "             path_effects=[pe.withStroke(linewidth=2,foreground='w')])\n",
    "\n",
    "plot.tight_layout()\n",
    "plot.savefig('use_examples/documentation_example_5.png')\n",
    "plot.show()"
   ]
  },
  {
   "cell_type": "code",
   "execution_count": null,
   "id": "hindu-insertion",
   "metadata": {},
   "outputs": [],
   "source": [
    "random_noise=rng.normal(0,0.1,x1.shape)\n",
    "\n",
    "fig,fax=plot.subplots(figsize=(9,4.5),dpi=200,ncols=2,gridspec_kw={'wspace':0})\n",
    "\n",
    "fax[0].imshow(x1*y1+random_noise,cmap='scicm.Blue')\n",
    "fax[0].set_axis_off()\n",
    "\n",
    "fax[1].imshow(x1*y1+random_noise,cmap='scicm.SoftBlue')\n",
    "fax[1].set_axis_off()\n",
    "\n",
    "plot.tight_layout()\n",
    "plot.savefig('use_examples/documentation_example_6.png')\n",
    "plot.show()"
   ]
  },
  {
   "cell_type": "code",
   "execution_count": null,
   "id": "lesser-template",
   "metadata": {},
   "outputs": [],
   "source": [
    "fig,fax=plot.subplots(figsize=(9,4.5),dpi=200,ncols=2,gridspec_kw={'wspace':0})\n",
    "\n",
    "fax[0].imshow(x1*y1,cmap='scicm.Blue')\n",
    "fax[0].contour(x1*x1.T,colors='k')\n",
    "fax[0].set_axis_off()\n",
    "\n",
    "fax[1].imshow(x1*y1,cmap='scicm.SoftBlue')\n",
    "fax[1].contour(x1*x1.T,colors='k')\n",
    "fax[1].set_axis_off()\n",
    "\n",
    "plot.tight_layout()\n",
    "plot.savefig('use_examples/documentation_example_7.png')\n",
    "plot.show()"
   ]
  },
  {
   "cell_type": "markdown",
   "id": "academic-valuation",
   "metadata": {},
   "source": [
    "# Bichromatic colour maps"
   ]
  },
  {
   "cell_type": "code",
   "execution_count": null,
   "id": "legendary-slope",
   "metadata": {},
   "outputs": [],
   "source": [
    "fig,fax=plot.subplots(figsize=(9,6),dpi=200,nrows=2,gridspec_kw={'hspace':0})\n",
    "\n",
    "fax[0].imshow(kovesi_test[::-1,:],cmap='scicm.TgreyM')\n",
    "fax[0].set_axis_off()\n",
    "\n",
    "fax[1].imshow(kovesi_test,cmap='scicm.P2M')\n",
    "fax[1].set_axis_off()\n",
    "\n",
    "fig.suptitle('scicm.cm.TgreyM (top) and scicm.cm.P2M (bottom)',\n",
    "             path_effects=[pe.withStroke(linewidth=2,foreground='w')])\n",
    "\n",
    "plot.tight_layout()\n",
    "plot.savefig('use_examples/documentation_example_8.png')\n",
    "plot.show()"
   ]
  },
  {
   "cell_type": "code",
   "execution_count": null,
   "id": "super-coating",
   "metadata": {},
   "outputs": [],
   "source": [
    "fig,fax=plot.subplots(figsize=(9,4.5),dpi=200,ncols=2,gridspec_kw={'wspace':0})\n",
    "\n",
    "fax[0].imshow(x1*y1,cmap='scicm.TgreyM')\n",
    "fax[0].set_axis_off()\n",
    "\n",
    "fax[1].imshow(x1*y1,cmap='scicm.P2M')\n",
    "fax[1].set_axis_off()\n",
    "\n",
    "plot.tight_layout()\n",
    "plot.savefig('use_examples/documentation_example_9.png')\n",
    "plot.show()"
   ]
  },
  {
   "cell_type": "markdown",
   "id": "federal-think",
   "metadata": {},
   "source": [
    "# Diverging colour maps"
   ]
  },
  {
   "cell_type": "code",
   "execution_count": null,
   "id": "desperate-kazakhstan",
   "metadata": {},
   "outputs": [],
   "source": [
    "BR=scicm.tools.merge(['scicm.Blue','scicm.Red'],[0.505],name_newcmap='custom.BR')"
   ]
  },
  {
   "cell_type": "code",
   "execution_count": null,
   "id": "lovely-pacific",
   "metadata": {},
   "outputs": [],
   "source": [
    "fig,fax=plot.subplots(figsize=(9,6),dpi=200,nrows=2,gridspec_kw={'hspace':0})\n",
    "\n",
    "fax[0].imshow(kovesi_test[::-1,:],cmap='custom.BR')\n",
    "fax[0].set_axis_off()\n",
    "\n",
    "fax[1].imshow(kovesi_test,cmap='scicm.BkR')\n",
    "fax[1].set_axis_off()\n",
    "\n",
    "fig.suptitle('custom.BR (top) and scicm.cm.BkR (bottom)',\n",
    "             path_effects=[pe.withStroke(linewidth=2,foreground='w')])\n",
    "\n",
    "plot.tight_layout()\n",
    "plot.savefig('use_examples/documentation_example_10.png')\n",
    "plot.show()"
   ]
  },
  {
   "cell_type": "code",
   "execution_count": null,
   "id": "stylish-devices",
   "metadata": {},
   "outputs": [],
   "source": [
    "fig,fax=plot.subplots(figsize=(9,4.5),dpi=200,ncols=2,gridspec_kw={'wspace':0})\n",
    "\n",
    "fax[0].imshow(x1*y1,cmap='custom.BR')\n",
    "fax[0].set_axis_off()\n",
    "\n",
    "fax[1].imshow(x1*y1,cmap='scicm.BkR')\n",
    "fax[1].set_axis_off()\n",
    "\n",
    "plot.tight_layout()\n",
    "plot.savefig('use_examples/documentation_example_11.png')\n",
    "plot.show()"
   ]
  },
  {
   "cell_type": "markdown",
   "id": "innocent-consequence",
   "metadata": {},
   "source": [
    "# Segmented colour maps"
   ]
  },
  {
   "cell_type": "code",
   "execution_count": null,
   "id": "independent-minister",
   "metadata": {},
   "outputs": [],
   "source": [
    "fig,fax=plot.subplots(figsize=(9,12),dpi=200,nrows=4,gridspec_kw={'hspace':0})\n",
    "\n",
    "fax[0].imshow(kovesi_test,cmap='scicm.Blue')\n",
    "fax[0].set_axis_off()\n",
    "\n",
    "fax[1].imshow(kovesi_test,cmap='scicm.Blue2080')\n",
    "fax[1].set_axis_off()\n",
    "\n",
    "fax[2].imshow(kovesi_test,cmap='scicm.Stone')\n",
    "fax[2].set_axis_off()\n",
    "\n",
    "fax[3].imshow(kovesi_test,cmap='scicm.Quartile')\n",
    "fax[3].set_axis_off()\n",
    "\n",
    "fig.suptitle('scicm.cm.Blue (top), scicm.cm.Blue2080 (top-middle),\\n scicm.cm.Stone (bottom-middle), and scicm.cm.Quartile (bottm)',\n",
    "             path_effects=[pe.withStroke(linewidth=2,foreground='w')])\n",
    "\n",
    "plot.tight_layout()\n",
    "plot.savefig('use_examples/documentation_example_12.png')\n",
    "plot.show()"
   ]
  },
  {
   "cell_type": "code",
   "execution_count": null,
   "id": "quantitative-anthony",
   "metadata": {},
   "outputs": [],
   "source": [
    "fig,fax=plot.subplots(figsize=(9,9),dpi=200,ncols=2,nrows=2,gridspec_kw={'wspace':0,'hspace':0})\n",
    "\n",
    "fax[0,0].imshow(x1*y1,cmap='scicm.Blue2080')\n",
    "fax[0,0].set_axis_off()\n",
    "\n",
    "fax[0,1].imshow(x1*y1,cmap='scicm.Blue')\n",
    "fax[0,1].set_axis_off()\n",
    "\n",
    "fax[1,0].imshow(x1*y1,cmap='scicm.Stone')\n",
    "fax[1,0].set_axis_off()\n",
    "\n",
    "fax[1,1].imshow(x1*y1,cmap='scicm.Quartile')\n",
    "fax[1,1].set_axis_off()\n",
    "\n",
    "plot.tight_layout()\n",
    "plot.savefig('use_examples/documentation_example_13.png')\n",
    "plot.show()"
   ]
  },
  {
   "cell_type": "code",
   "execution_count": null,
   "id": "introductory-building",
   "metadata": {},
   "outputs": [],
   "source": [
    "x3=rng.normal(0,1,10000)\n",
    "y3=rng.normal(0,1,10000)\n",
    "\n",
    "z3,_,_=np.histogram2d(x3,y3,bins=20)\n",
    "z3_norm=np.unique(z3.reshape(400),return_inverse=True)[1]\n",
    "z3_norm=np.linspace(0,1,400)[z3_norm].reshape(z3.shape)"
   ]
  },
  {
   "cell_type": "code",
   "execution_count": null,
   "id": "closing-family",
   "metadata": {},
   "outputs": [],
   "source": [
    "fig,fax=plot.subplots(figsize=(9,4.5),dpi=200,ncols=2,gridspec_kw={'wspace':0,'hspace':0})\n",
    "\n",
    "fax[0].imshow(z3,cmap='scicm.Quartile')\n",
    "fax[0].set_axis_off()\n",
    "fax[0].set_title('Quartiles of the data range',path_effects=[pe.withStroke(linewidth=2,foreground='w')])\n",
    "\n",
    "fax[1].imshow(z3_norm,cmap='scicm.Quartile')\n",
    "fax[1].set_axis_off()\n",
    "fax[1].set_title('Quartiles of the data values',path_effects=[pe.withStroke(linewidth=2,foreground='w')])\n",
    "\n",
    "plot.tight_layout()\n",
    "plot.savefig('use_examples/documentation_example_14.png')\n",
    "plot.show()"
   ]
  },
  {
   "cell_type": "markdown",
   "id": "subtle-shoulder",
   "metadata": {},
   "source": [
    "# Miscellaneous colour maps"
   ]
  },
  {
   "cell_type": "code",
   "execution_count": null,
   "id": "divine-residence",
   "metadata": {},
   "outputs": [],
   "source": [
    "fig,fax=plot.subplots(figsize=(9,6),dpi=200,nrows=2,gridspec_kw={'hspace':0})\n",
    "\n",
    "fax[0].imshow(kovesi_test,cmap='scicm.Day')\n",
    "fax[0].set_axis_off()\n",
    "\n",
    "fax[1].imshow(kovesi_test,cmap='scicm.Night')\n",
    "fax[1].set_axis_off()\n",
    "\n",
    "fig.suptitle('scicm.cm.Day (top) and scicm.cm.Night (bottom)',\n",
    "             path_effects=[pe.withStroke(linewidth=2,foreground='w')])\n",
    "\n",
    "plot.tight_layout()\n",
    "plot.savefig('use_examples/documentation_example_15.png')\n",
    "plot.show()"
   ]
  },
  {
   "cell_type": "code",
   "execution_count": null,
   "id": "subtle-spare",
   "metadata": {},
   "outputs": [],
   "source": [
    "x2=np.array([np.linspace(-6.28,6.28,900) for i in range(900)])\n",
    "x2=np.where(x2<-3.14,x2+6.28,x2)\n",
    "x2=np.where(x2>3.14,x2-6.28,x2)"
   ]
  },
  {
   "cell_type": "code",
   "execution_count": null,
   "id": "australian-subject",
   "metadata": {},
   "outputs": [],
   "source": [
    "fig,fax=plot.subplots(figsize=(9,4.5),dpi=200,ncols=2,gridspec_kw={'wspace':0})\n",
    "\n",
    "fax[0].imshow(x2,cmap='scicm.Stone')\n",
    "fax[0].set_axis_off()\n",
    "\n",
    "fax[1].imshow(x2,cmap='scicm.Night')\n",
    "fax[1].set_axis_off()\n",
    "\n",
    "plot.tight_layout()\n",
    "plot.savefig('use_examples/documentation_example_16.png')\n",
    "plot.show()"
   ]
  },
  {
   "cell_type": "code",
   "execution_count": null,
   "id": "internal-gateway",
   "metadata": {},
   "outputs": [],
   "source": [
    "fig,fax=plot.subplots(figsize=(9,6),dpi=200,nrows=2,gridspec_kw={'hspace':0})\n",
    "\n",
    "fax[0].imshow(kovesi_test,cmap='scicm.Tropical')\n",
    "fax[0].set_axis_off()\n",
    "\n",
    "fax[1].imshow(kovesi_test,cmap='scicm.Garnet')\n",
    "fax[1].set_axis_off()\n",
    "\n",
    "fig.suptitle('scicm.cm.Tropical (top) and scicm.cm.Garnet (bottom)',\n",
    "             path_effects=[pe.withStroke(linewidth=2,foreground='w')])\n",
    "\n",
    "plot.tight_layout()\n",
    "plot.savefig('use_examples/documentation_example_17.png')\n",
    "plot.show()"
   ]
  },
  {
   "cell_type": "code",
   "execution_count": null,
   "id": "clean-grove",
   "metadata": {},
   "outputs": [],
   "source": [
    "fig,fax=plot.subplots(figsize=(9,4.5),dpi=200,ncols=2,gridspec_kw={'wspace':0})\n",
    "\n",
    "fax[0].imshow(x1*y1,cmap='scicm.Tropical')\n",
    "fax[0].set_axis_off()\n",
    "\n",
    "fax[1].imshow(x1*y1,cmap='scicm.Garnet')\n",
    "fax[1].set_axis_off()\n",
    "\n",
    "plot.tight_layout()\n",
    "plot.savefig('use_examples/documentation_example_18.png')\n",
    "plot.show()"
   ]
  },
  {
   "cell_type": "code",
   "execution_count": null,
   "id": "eastern-algeria",
   "metadata": {},
   "outputs": [],
   "source": [
    "fig,fax=plot.subplots(figsize=(9,6),dpi=200,nrows=2,gridspec_kw={'hspace':0})\n",
    "\n",
    "fax[0].imshow(kovesi_test,cmap='scicm.iso_1')\n",
    "fax[0].set_axis_off()\n",
    "\n",
    "fax[1].imshow(kovesi_test,cmap='scicm.iso_2')\n",
    "fax[1].set_axis_off()\n",
    "\n",
    "fig.suptitle('scicm.cm.iso_1 (top) and scicm.cm.iso_2 (bottom)',\n",
    "             path_effects=[pe.withStroke(linewidth=2,foreground='w')])\n",
    "\n",
    "plot.tight_layout()\n",
    "plot.savefig('use_examples/documentation_example_19.png')\n",
    "plot.show()"
   ]
  },
  {
   "cell_type": "code",
   "execution_count": null,
   "id": "refined-parks",
   "metadata": {},
   "outputs": [],
   "source": [
    "fig,fax=plot.subplots(figsize=(9,4.5),dpi=200,ncols=2,gridspec_kw={'wspace':0})\n",
    "\n",
    "fax[0].imshow(x1*y1,cmap='scicm.iso_1')\n",
    "fax[0].set_axis_off()\n",
    "\n",
    "fax[1].imshow(x1*y1+random_noise,cmap='scicm.iso_1')\n",
    "fax[1].set_axis_off()\n",
    "\n",
    "plot.tight_layout()\n",
    "plot.savefig('use_examples/documentation_example_20.png')\n",
    "plot.show()"
   ]
  },
  {
   "cell_type": "code",
   "execution_count": null,
   "id": "speaking-basis",
   "metadata": {},
   "outputs": [],
   "source": [
    "def asinh_stretch(x,a=0.1):\n",
    "    y=np.arcsinh(x/a)\n",
    "    y/=np.arcsinh(1/a)\n",
    "    return(y)"
   ]
  },
  {
   "cell_type": "code",
   "execution_count": null,
   "id": "inner-charles",
   "metadata": {},
   "outputs": [],
   "source": [
    "# Fits files sourced from the Hubble Legacy Archive\n",
    "f450w_file=fits.open('data/hst_09042_84_wfpc2_f450w_wf_drz.fits')\n",
    "f450w=np.where(f450w_file[1].data[650:1650,600:1600]<0,0,f450w_file[1].data[650:1650,600:1600])\n",
    "f450w_file.close()\n",
    "f814w_file=fits.open('data/hst_09042_84_wfpc2_f814w_wf_drz.fits')\n",
    "f814w=np.where(f814w_file[1].data[650:1650,600:1600]<0,0,f814w_file[1].data[650:1650,600:1600])\n",
    "f814w_file.close()\n",
    "f450w_f814w=f450w/f814w\n",
    "f450w_f814w=np.where(np.isinf(f450w_f814w),np.nan,f450w_f814w)\n",
    "\n",
    "f450w=asinh_stretch(f450w)\n",
    "f450w/=np.nanmax(f450w)\n",
    "\n",
    "f814w=asinh_stretch(f814w)\n",
    "f814w/=np.nanmax(f814w)\n",
    "\n",
    "f450w_f814w=asinh_stretch(f450w_f814w)\n",
    "f450w_f814w/=np.nanmax(f450w_f814w)\n",
    "f450w_f814w=np.where(f450w_f814w>0.25,0.25,f450w_f814w)/0.25"
   ]
  },
  {
   "cell_type": "code",
   "execution_count": null,
   "id": "complete-trash",
   "metadata": {},
   "outputs": [],
   "source": [
    "ls=LightSource(azdeg=315,altdeg=30)\n",
    "rgb_iso=ls.shade_rgb(scicm.cm.iso_1(f450w_f814w)[:,:,:3],f814w,\n",
    "                     blend_mode='overlay',vert_exag=100)\n",
    "rgb_lin=ls.shade_rgb(scicm.cm.SoftMagenta_r(f450w_f814w)[:,:,:3],f814w,\n",
    "                     blend_mode='overlay',vert_exag=100)\n",
    "\n",
    "fig,fax=plot.subplots(figsize=(9,4.5),dpi=200,ncols=2,gridspec_kw={'wspace':0})\n",
    "\n",
    "fax[0].imshow(rgb_lin)\n",
    "fax[0].set_axis_off()\n",
    "\n",
    "fax[1].imshow(rgb_iso)\n",
    "fax[1].set_axis_off()\n",
    "\n",
    "plot.tight_layout()\n",
    "plot.savefig('use_examples/documentation_example_21.png')\n",
    "plot.show()"
   ]
  },
  {
   "cell_type": "code",
   "execution_count": null,
   "id": "statutory-button",
   "metadata": {},
   "outputs": [],
   "source": []
  }
 ],
 "metadata": {
  "kernelspec": {
   "display_name": "Python 3",
   "language": "python",
   "name": "python3"
  },
  "language_info": {
   "codemirror_mode": {
    "name": "ipython",
    "version": 3
   },
   "file_extension": ".py",
   "mimetype": "text/x-python",
   "name": "python",
   "nbconvert_exporter": "python",
   "pygments_lexer": "ipython3",
   "version": "3.8.5"
  }
 },
 "nbformat": 4,
 "nbformat_minor": 5
}
