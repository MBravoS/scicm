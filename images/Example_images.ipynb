{
 "cells": [
  {
   "cell_type": "code",
   "execution_count": null,
   "id": "color-amber",
   "metadata": {},
   "outputs": [],
   "source": [
    "import glob\n",
    "import math\n",
    "import scicm\n",
    "import numpy as np\n",
    "import matplotlib.cm as cm\n",
    "import matplotlib.pyplot as plot\n",
    "import matplotlib.gridspec as gs\n",
    "\n",
    "\n",
    "%matplotlib inline"
   ]
  },
  {
   "cell_type": "code",
   "execution_count": null,
   "id": "prime-cabinet",
   "metadata": {},
   "outputs": [],
   "source": [
    "cmaps_monochromat=['Blue','Cyan','Green','Magenta','Orange','Purple','Red','Stone','Teal','Yellow']\n",
    "cmaps_soft=[f.split('/')[-1].replace('.txt','') for f in sorted(glob.glob('../scicm/cm_data/Soft*txt'))]\n",
    "cmaps_bichromat=[f.split('/')[-1].replace('.txt','') for f in sorted(glob.glob('../scicm/cm_data/[A-Z]2[A-Z].txt'))]\n",
    "cmaps_bichromat_grey=[f.split('/')[-1].replace('.txt','') for f in sorted(glob.glob('../scicm/cm_data/[A-Z]grey[A-Z].txt'))]\n",
    "cmaps_diverging_k=[f.split('/')[-1].replace('.txt','') for f in sorted(glob.glob('../scicm/cm_data/[A-Z]k[A-Z].txt'))]\n",
    "cmaps_diverging_w=[f.split('/')[-1].replace('.txt','') for f in sorted(glob.glob('../scicm/cm_data/[A-Z]w[A-Z].txt'))]\n",
    "cmaps_iso=[f.split('/')[-1].replace('.txt','') for f in sorted(glob.glob('../scicm/cm_data/iso*.txt'))]\n",
    "cmaps_segmented=[f.split('/')[-1].replace('.txt','') for f in sorted(glob.glob('../scicm/cm_data/*2080.txt'))]+['Quartile']\n",
    "cmaps_miscellaneous=['Day','Night','Garnet','Ripe','Tropical']\n",
    "cmaps_all=cmaps_monochromat+cmaps_soft+cmaps_bichromat+cmaps_bichromat_grey+cmaps_diverging_k+cmaps_diverging_w+cmaps_segmented+cmaps_iso+cmaps_miscellaneous"
   ]
  },
  {
   "cell_type": "code",
   "execution_count": null,
   "id": "latest-differential",
   "metadata": {},
   "outputs": [],
   "source": [
    "gradient=np.linspace(0,1,256)\n",
    "gradient=np.vstack((gradient,gradient))"
   ]
  },
  {
   "cell_type": "markdown",
   "id": "qualified-economy",
   "metadata": {},
   "source": [
    "# Colour map samples"
   ]
  },
  {
   "cell_type": "code",
   "execution_count": null,
   "id": "presidential-captain",
   "metadata": {},
   "outputs": [],
   "source": [
    "fig=plot.figure(figsize=(12,(len(cmaps_monochromat)+1)*0.7),facecolor='w',layout='constrained')\n",
    "spec=gs.GridSpec(nrows=len(cmaps_monochromat),ncols=1,figure=fig)\n",
    "axes=[fig.add_subplot(spec[i,0]) for i in range(len(cmaps_monochromat))]\n",
    "\n",
    "axes[0].set_title('Monochromatic',fontsize=40)\n",
    "\n",
    "for ax,name in zip(axes,cmaps_monochromat):\n",
    "    ax.imshow(gradient, aspect='auto', cmap=f'scicm.{name}')\n",
    "    lab=ax.set_ylabel(name,labelpad=10,fontsize=30,y=0.2,ha='right')\n",
    "    lab.set_rotation(0)\n",
    "    \n",
    "# Turn off *all* ticks & spines, not just the ones with colormaps.\n",
    "for ax in axes:\n",
    "    ax.xaxis.set_ticks([])\n",
    "    ax.yaxis.set_ticks([])\n",
    "    ax.spines['top'].set_visible(False)\n",
    "    ax.spines['bottom'].set_visible(False)\n",
    "    ax.spines['left'].set_visible(False)\n",
    "    ax.spines['right'].set_visible(False)\n",
    "plot.savefig(f'scicm_monochromatic.png',dpi=200)\n",
    "plot.show()"
   ]
  },
  {
   "cell_type": "code",
   "execution_count": null,
   "id": "raising-building",
   "metadata": {},
   "outputs": [],
   "source": [
    "fig=plot.figure(figsize=(12,(len(cmaps_soft)+1)*0.7),facecolor='w',layout='constrained')\n",
    "spec=gs.GridSpec(nrows=len(cmaps_soft),ncols=1,figure=fig)\n",
    "axes=[fig.add_subplot(spec[i,0]) for i in range(len(cmaps_soft))]\n",
    "\n",
    "axes[0].set_title('Soft',fontsize=40)\n",
    "\n",
    "for ax,name in zip(axes,cmaps_soft):\n",
    "    ax.imshow(gradient, aspect='auto', cmap=f'scicm.{name}')\n",
    "    lab=ax.set_ylabel(name,labelpad=10,fontsize=30,y=0.2,ha='right')\n",
    "    lab.set_rotation(0)\n",
    "    \n",
    "# Turn off *all* ticks & spines, not just the ones with colormaps.\n",
    "for ax in axes:\n",
    "    ax.xaxis.set_ticks([])\n",
    "    ax.yaxis.set_ticks([])\n",
    "    ax.spines['top'].set_visible(False)\n",
    "    ax.spines['bottom'].set_visible(False)\n",
    "    ax.spines['left'].set_visible(False)\n",
    "    ax.spines['right'].set_visible(False)\n",
    "plot.savefig(f'scicm_soft.png',dpi=200)\n",
    "plot.show()"
   ]
  },
  {
   "cell_type": "code",
   "execution_count": null,
   "id": "confused-insertion",
   "metadata": {
    "scrolled": false
   },
   "outputs": [],
   "source": [
    "fig=plot.figure(figsize=(12,(len(cmaps_bichromat)+1)*0.7),facecolor='w',layout='constrained')\n",
    "spec=gs.GridSpec(nrows=len(cmaps_bichromat),ncols=1,figure=fig)\n",
    "axes=[fig.add_subplot(spec[i,0]) for i in range(len(cmaps_bichromat))]\n",
    "\n",
    "axes[0].set_title('Bichromatic',fontsize=40)\n",
    "\n",
    "for ax,name in zip(axes,cmaps_bichromat):\n",
    "    ax.imshow(gradient, aspect='auto', cmap=f'scicm.{name}')\n",
    "    lab=ax.set_ylabel(name,labelpad=10,fontsize=30,y=0.2,ha='right')\n",
    "    lab.set_rotation(0)\n",
    "    \n",
    "# Turn off *all* ticks & spines, not just the ones with colormaps.\n",
    "for ax in axes:\n",
    "    ax.xaxis.set_ticks([])\n",
    "    ax.yaxis.set_ticks([])\n",
    "    ax.spines['top'].set_visible(False)\n",
    "    ax.spines['bottom'].set_visible(False)\n",
    "    ax.spines['left'].set_visible(False)\n",
    "    ax.spines['right'].set_visible(False)\n",
    "plot.savefig(f'scicm_bichromatic.png',dpi=200)\n",
    "plot.show()"
   ]
  },
  {
   "cell_type": "code",
   "execution_count": null,
   "id": "surrounded-calibration",
   "metadata": {},
   "outputs": [],
   "source": [
    "fig=plot.figure(figsize=(12,(len(cmaps_bichromat_grey)+1)*0.7),facecolor='w',layout='constrained')\n",
    "spec=gs.GridSpec(nrows=len(cmaps_bichromat_grey),ncols=1,figure=fig)\n",
    "axes=[fig.add_subplot(spec[i,0]) for i in range(len(cmaps_bichromat_grey))]\n",
    "\n",
    "axes[0].set_title('Bichromatic (grey)',fontsize=40)\n",
    "\n",
    "for ax,name in zip(axes,cmaps_bichromat_grey):\n",
    "    ax.imshow(gradient, aspect='auto', cmap=f'scicm.{name}')\n",
    "    lab=ax.set_ylabel(name,labelpad=10,fontsize=30,y=0.2,ha='right')\n",
    "    lab.set_rotation(0)\n",
    "    \n",
    "# Turn off *all* ticks & spines, not just the ones with colormaps.\n",
    "for ax in axes:\n",
    "    ax.xaxis.set_ticks([])\n",
    "    ax.yaxis.set_ticks([])\n",
    "    ax.spines['top'].set_visible(False)\n",
    "    ax.spines['bottom'].set_visible(False)\n",
    "    ax.spines['left'].set_visible(False)\n",
    "    ax.spines['right'].set_visible(False)\n",
    "plot.savefig(f'scicm_bichromatic_grey.png',dpi=200)\n",
    "plot.show()"
   ]
  },
  {
   "cell_type": "code",
   "execution_count": null,
   "id": "narrow-trademark",
   "metadata": {},
   "outputs": [],
   "source": [
    "fig=plot.figure(figsize=(12,(len(cmaps_diverging_k)+1)*0.7),facecolor='w',layout='constrained')\n",
    "spec=gs.GridSpec(nrows=len(cmaps_diverging_k),ncols=1,figure=fig)\n",
    "axes=[fig.add_subplot(spec[i,0]) for i in range(len(cmaps_diverging_k))]\n",
    "\n",
    "axes[0].set_title('Diverging (black)',fontsize=40)\n",
    "\n",
    "for ax,name in zip(axes,cmaps_diverging_k):\n",
    "    ax.imshow(gradient, aspect='auto', cmap=f'scicm.{name}')\n",
    "    lab=ax.set_ylabel(name,labelpad=10,fontsize=30,y=0.2,ha='right')\n",
    "    lab.set_rotation(0)\n",
    "    \n",
    "# Turn off *all* ticks & spines, not just the ones with colormaps.\n",
    "for ax in axes:\n",
    "    ax.xaxis.set_ticks([])\n",
    "    ax.yaxis.set_ticks([])\n",
    "    ax.spines['top'].set_visible(False)\n",
    "    ax.spines['bottom'].set_visible(False)\n",
    "    ax.spines['left'].set_visible(False)\n",
    "    ax.spines['right'].set_visible(False)\n",
    "plot.savefig(f'scicm_diverging_k.png',dpi=200)\n",
    "plot.show()"
   ]
  },
  {
   "cell_type": "code",
   "execution_count": null,
   "id": "auburn-transparency",
   "metadata": {},
   "outputs": [],
   "source": [
    "fig=plot.figure(figsize=(12,(len(cmaps_diverging_w)+1)*0.7),facecolor='w',layout='constrained')\n",
    "spec=gs.GridSpec(nrows=len(cmaps_diverging_w),ncols=1,figure=fig)\n",
    "axes=[fig.add_subplot(spec[i,0]) for i in range(len(cmaps_diverging_w))]\n",
    "\n",
    "axes[0].set_title('Diverging (white)',fontsize=40)\n",
    "\n",
    "for ax,name in zip(axes,cmaps_diverging_w):\n",
    "    ax.imshow(gradient, aspect='auto', cmap=f'scicm.{name}')\n",
    "    lab=ax.set_ylabel(name,labelpad=10,fontsize=30,y=0.2,ha='right')\n",
    "    lab.set_rotation(0)\n",
    "    \n",
    "# Turn off *all* ticks & spines, not just the ones with colormaps.\n",
    "for ax in axes:\n",
    "    ax.xaxis.set_ticks([])\n",
    "    ax.yaxis.set_ticks([])\n",
    "    ax.spines['top'].set_visible(False)\n",
    "    ax.spines['bottom'].set_visible(False)\n",
    "    ax.spines['left'].set_visible(False)\n",
    "    ax.spines['right'].set_visible(False)\n",
    "plot.savefig(f'scicm_diverging_w.png',dpi=200)\n",
    "plot.show()"
   ]
  },
  {
   "cell_type": "code",
   "execution_count": null,
   "id": "professional-qatar",
   "metadata": {},
   "outputs": [],
   "source": [
    "fig=plot.figure(figsize=(12,(len(cmaps_segmented)+1)*0.7),facecolor='w',layout='constrained')\n",
    "spec=gs.GridSpec(nrows=len(cmaps_segmented),ncols=1,figure=fig)\n",
    "axes=[fig.add_subplot(spec[i,0]) for i in range(len(cmaps_segmented))]\n",
    "\n",
    "axes[0].set_title('Segmented',fontsize=40)\n",
    "\n",
    "for ax,name in zip(axes,cmaps_segmented):\n",
    "    ax.imshow(gradient, aspect='auto', cmap=f'scicm.{name}')\n",
    "    lab=ax.set_ylabel(name,labelpad=10,fontsize=30,y=0.2,ha='right')\n",
    "    lab.set_rotation(0)\n",
    "    \n",
    "# Turn off *all* ticks & spines, not just the ones with colormaps.\n",
    "for ax in axes:\n",
    "    ax.xaxis.set_ticks([])\n",
    "    ax.yaxis.set_ticks([])\n",
    "    ax.spines['top'].set_visible(False)\n",
    "    ax.spines['bottom'].set_visible(False)\n",
    "    ax.spines['left'].set_visible(False)\n",
    "    ax.spines['right'].set_visible(False)\n",
    "plot.savefig(f'scicm_segmented.png',dpi=200)\n",
    "plot.show()"
   ]
  },
  {
   "cell_type": "code",
   "execution_count": null,
   "id": "mysterious-variable",
   "metadata": {},
   "outputs": [],
   "source": [
    "fig=plot.figure(figsize=(12,(len(cmaps_miscellaneous)+1)*0.6),facecolor='w',layout='constrained')\n",
    "spec=gs.GridSpec(nrows=len(cmaps_miscellaneous),ncols=1,figure=fig)\n",
    "axes=[fig.add_subplot(spec[i,0]) for i in range(len(cmaps_miscellaneous))]\n",
    "\n",
    "axes[0].set_title('Miscellaneous',fontsize=40)\n",
    "\n",
    "for ax,name in zip(axes,cmaps_miscellaneous):\n",
    "    ax.imshow(gradient, aspect='auto', cmap=f'scicm.{name}')\n",
    "    lab=ax.set_ylabel(name,labelpad=10,fontsize=30,y=0.2,ha='right')\n",
    "    lab.set_rotation(0)\n",
    "    \n",
    "# Turn off *all* ticks & spines, not just the ones with colormaps.\n",
    "for ax in axes:\n",
    "    ax.xaxis.set_ticks([])\n",
    "    ax.yaxis.set_ticks([])\n",
    "    ax.spines['top'].set_visible(False)\n",
    "    ax.spines['bottom'].set_visible(False)\n",
    "    ax.spines['left'].set_visible(False)\n",
    "    ax.spines['right'].set_visible(False)\n",
    "plot.savefig(f'scicm_miscellaneous.png',dpi=200)\n",
    "plot.show()"
   ]
  },
  {
   "cell_type": "code",
   "execution_count": null,
   "id": "facial-batman",
   "metadata": {},
   "outputs": [],
   "source": [
    "fig=plot.figure(figsize=(18,(math.ceil(len(cmaps_all)/2)+1)*0.6),facecolor='w',layout='constrained')\n",
    "spec=gs.GridSpec(nrows=math.ceil(len(cmaps_all)/2),ncols=2,figure=fig)\n",
    "axes=[fig.add_subplot(spec[i,0]) for i in range(math.ceil(len(cmaps_all)/2))]+[fig.add_subplot(spec[i,1]) for i in range(math.floor(len(cmaps_all)/2))]\n",
    "\n",
    "for ax,name in zip(axes,cmaps_all):\n",
    "    ax.imshow(gradient, aspect='auto', cmap=f'scicm.{name}')\n",
    "    lab=ax.set_ylabel(name,labelpad=10,fontsize=30,y=0.1,ha='right')\n",
    "    lab.set_rotation(0)\n",
    "    \n",
    "# Turn off *all* ticks & spines, not just the ones with colormaps.\n",
    "for ax in axes:\n",
    "    ax.xaxis.set_ticks([])\n",
    "    ax.yaxis.set_ticks([])\n",
    "    ax.spines['top'].set_visible(False)\n",
    "    ax.spines['bottom'].set_visible(False)\n",
    "    ax.spines['left'].set_visible(False)\n",
    "    ax.spines['right'].set_visible(False)\n",
    "plot.savefig(f'scicm_all.png',dpi=200)\n",
    "plot.show()"
   ]
  },
  {
   "cell_type": "markdown",
   "id": "stock-tonight",
   "metadata": {},
   "source": [
    "# Examples for each colour map"
   ]
  },
  {
   "cell_type": "code",
   "execution_count": null,
   "id": "exclusive-asbestos",
   "metadata": {},
   "outputs": [],
   "source": [
    "# Generating random data\n",
    "rng=np.random.default_rng()\n",
    "x0=np.concatenate([rng.normal(0,0.6,100000),rng.normal(1,0.4,100000)])\n",
    "y0=np.concatenate([rng.normal(0,0.6,100000),rng.normal(1,0.4,100000)])\n",
    "z0=np.concatenate([rng.uniform(0,0.2,100000),rng.uniform(0.2,0.4,100000)])\n",
    "\n",
    "sparse_sample=rng.choice(np.arange(len(x0)),300,replace=False)\n",
    "x0_sparse=x0[sparse_sample]\n",
    "y0_sparse=y0[sparse_sample]\n",
    "z0_sparse=z0[sparse_sample]\n",
    "\n",
    "x1=np.array([np.cos(np.linspace(-3.14,3.14,300)) for i in range(300)])\n",
    "y1=np.array([np.sin(np.linspace(-3.14,3.14,300)) for i in range(300)]).T\n",
    "\n",
    "x3=np.linspace(0,1,101)"
   ]
  },
  {
   "cell_type": "code",
   "execution_count": null,
   "id": "innocent-novelty",
   "metadata": {},
   "outputs": [],
   "source": [
    "#for c in [f'scicm.{cmaps_all[0]}']:\n",
    "for c in [f'scicm.{ca}' for ca in cmaps_all]:\n",
    "    # Plotting\n",
    "    print(c)\n",
    "    fig,axes=plot.subplots(nrows=2,ncols=2,figsize=(12,12),gridspec_kw=dict(wspace=0.0,hspace=0.0))\n",
    "    \n",
    "    axes[0,0].hexbin(x0,y0,lw=0,cmap=c,gridsize=60)\n",
    "    axes[0,0].set_xlim([-1.5,2.5])\n",
    "    axes[0,0].set_ylim([-1.5,2.5])\n",
    "    \n",
    "    axes[0,1].imshow(x1*y1,cmap=c)\n",
    "    \n",
    "    axes[1,0].scatter(x0_sparse,y0_sparse,lw=0,c=z0_sparse,cmap=c,s=50)\n",
    "    \n",
    "    cmap=cm.get_cmap(c)\n",
    "    axes[1,1].plot(x3,x3**0.33,lw=4,c=cmap(1.0))\n",
    "    axes[1,1].plot(x3,x3**0.50,lw=4,c=cmap(0.75))\n",
    "    axes[1,1].plot(x3,x3**1.00,lw=4,c=cmap(0.50))\n",
    "    axes[1,1].plot(x3,x3**2.00,lw=4,c=cmap(0.25))\n",
    "    axes[1,1].plot(x3,x3**3.00,lw=4,c=cmap(0.0))\n",
    "    \n",
    "    for i in [0,1]:\n",
    "        for j in [0,1]:\n",
    "            axes[i,j].set_xticks([])\n",
    "            axes[i,j].set_yticks([])\n",
    "    \n",
    "    plot.tight_layout()\n",
    "    plot.savefig(f'cmap_examples/{c.split(\".\")[1]}.png',dpi=200)\n",
    "    #plot.show()\n",
    "    plot.close()"
   ]
  },
  {
   "cell_type": "markdown",
   "id": "military-optimum",
   "metadata": {},
   "source": [
    "# Examples of use"
   ]
  },
  {
   "cell_type": "code",
   "execution_count": null,
   "id": "after-difficulty",
   "metadata": {},
   "outputs": [],
   "source": [
    "import scicm\n",
    "import numpy as np\n",
    "import matplotlib.pyplot as plt\n",
    "import matplotlib.colors as col\n",
    "\n",
    "%matplotlib inline"
   ]
  },
  {
   "cell_type": "code",
   "execution_count": null,
   "id": "mediterranean-incentive",
   "metadata": {},
   "outputs": [],
   "source": [
    "# Generating random data\n",
    "x0=np.array([np.cos(np.linspace(-1,3,600)) for i in range(600)])\n",
    "y0=np.array([np.sin(np.linspace(0,4,600)) for i in range(600)]).T\n",
    "x1=np.array([np.cos(np.linspace(-10,30,600)) for i in range(600)])\n",
    "y1=np.array([np.sin(np.linspace(0,40,600)) for i in range(600)]).T\n",
    "\n",
    "Z=x0*y0+(x1*y1)/5"
   ]
  },
  {
   "cell_type": "code",
   "execution_count": null,
   "id": "recent-canvas",
   "metadata": {},
   "outputs": [],
   "source": [
    "plt.figure(figsize=(12,12))\n",
    "\n",
    "ls=col.LightSource(azdeg=0,altdeg=30)\n",
    "plt.imshow(ls.shade(Z,cmap=scicm.cm.iso_1,blend_mode='hsv'))\n",
    "plt.show()"
   ]
  },
  {
   "cell_type": "code",
   "execution_count": null,
   "id": "equipped-result",
   "metadata": {},
   "outputs": [],
   "source": []
  }
 ],
 "metadata": {
  "kernelspec": {
   "display_name": "Python 3",
   "language": "python",
   "name": "python3"
  },
  "language_info": {
   "codemirror_mode": {
    "name": "ipython",
    "version": 3
   },
   "file_extension": ".py",
   "mimetype": "text/x-python",
   "name": "python",
   "nbconvert_exporter": "python",
   "pygments_lexer": "ipython3",
   "version": "3.8.5"
  }
 },
 "nbformat": 4,
 "nbformat_minor": 5
}
