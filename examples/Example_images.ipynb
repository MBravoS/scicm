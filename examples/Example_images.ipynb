{
 "cells": [
  {
   "cell_type": "code",
   "execution_count": null,
   "id": "color-amber",
   "metadata": {},
   "outputs": [],
   "source": [
    "import scicm\n",
    "import numpy as np\n",
    "import splotch as sp\n",
    "import matplotlib.pyplot as plot\n",
    "\n",
    "%matplotlib inline"
   ]
  },
  {
   "cell_type": "code",
   "execution_count": null,
   "id": "prime-cabinet",
   "metadata": {},
   "outputs": [],
   "source": [
    "cmaps_monochromat=['Blue','Cyan','Green','Magenta','Orange','Purple','Red','Stone','Yellow']\n",
    "cmaps_dichromat=['B2C','B2P','C2G','G2Y','M2R','O2Y','P2M','R2O']\n",
    "cmaps_diverging=['BkG','BkR','BkY','CkO','GkP','MkY','OkP','BwG','BwR','GwP']\n",
    "cmaps_miscellaneous=['Day','Night','Garnet','Ripe','Tropical','Edges','Quartile']"
   ]
  },
  {
   "cell_type": "code",
   "execution_count": null,
   "id": "latest-differential",
   "metadata": {},
   "outputs": [],
   "source": [
    "gradient=np.linspace(0,1,256)\n",
    "gradient=np.vstack((gradient,gradient))"
   ]
  },
  {
   "cell_type": "markdown",
   "id": "qualified-economy",
   "metadata": {},
   "source": [
    "# Colour map samples"
   ]
  },
  {
   "cell_type": "code",
   "execution_count": null,
   "id": "presidential-captain",
   "metadata": {},
   "outputs": [],
   "source": [
    "fig,axes=sp.subplots(ncols=1,nrows=len(cmaps_monochromat),figsize=(10,(len(cmaps_monochromat)+1)*0.6),facecolor='white')\n",
    "fig.subplots_adjust(top=0.9, bottom=0.02, left=0.14, right=0.99)\n",
    "axes[0].set_title('Monochromatic',fontsize=30)\n",
    "\n",
    "for ax, name in zip(axes,cmaps_monochromat):\n",
    "    ax.imshow(gradient, aspect='auto', cmap=f'scicm.{name}')\n",
    "    pos = list(ax.get_position().bounds)\n",
    "    x_text = pos[0] - 0.01\n",
    "    y_text = pos[1] + pos[3]/2.\n",
    "    fig.text(x_text, y_text, name, va='center', ha='right', fontsize=20)\n",
    "\n",
    "# Turn off *all* ticks & spines, not just the ones with colormaps.\n",
    "for ax in axes:\n",
    "    ax.set_axis_off()\n",
    "plot.savefig(f'scicm_monochromat.png',dpi=200)\n",
    "plot.show()"
   ]
  },
  {
   "cell_type": "code",
   "execution_count": null,
   "id": "confused-insertion",
   "metadata": {
    "scrolled": false
   },
   "outputs": [],
   "source": [
    "fig,axes = sp.subplots(ncols=1,nrows=len(cmaps_dichromat),figsize=(10,(len(cmaps_dichromat)+1)*0.5),facecolor='white')\n",
    "fig.subplots_adjust(top=0.9, bottom=0.02, left=0.14, right=0.99)\n",
    "axes[0].set_title('Dichromatic',fontsize=30)\n",
    "\n",
    "for ax,name in zip(axes,cmaps_dichromat):\n",
    "    ax.imshow(gradient, aspect='auto', cmap=f'scicm.{name}')\n",
    "    pos = list(ax.get_position().bounds)\n",
    "    x_text = pos[0] - 0.01\n",
    "    y_text = pos[1] + pos[3]/2.\n",
    "    fig.text(x_text, y_text, name, va='center', ha='right', fontsize=20)\n",
    "\n",
    "# Turn off *all* ticks & spines, not just the ones with colormaps.\n",
    "for ax in axes:\n",
    "    ax.set_axis_off()\n",
    "plot.savefig(f'scicm_dichromat.png',dpi=200)\n",
    "plot.show()"
   ]
  },
  {
   "cell_type": "code",
   "execution_count": null,
   "id": "narrow-trademark",
   "metadata": {},
   "outputs": [],
   "source": [
    "fig,axes=sp.subplots(ncols=1,nrows=len(cmaps_diverging),figsize=(10,(len(cmaps_diverging)+1)*0.5),facecolor='white')\n",
    "fig.subplots_adjust(top=0.9, bottom=0.02, left=0.14, right=0.99)\n",
    "axes[0].set_title('Diverging',fontsize=30)\n",
    "\n",
    "for ax,name in zip(axes,cmaps_diverging):\n",
    "    ax.imshow(gradient, aspect='auto', cmap=f'scicm.{name}')\n",
    "    pos = list(ax.get_position().bounds)\n",
    "    x_text = pos[0] - 0.01\n",
    "    y_text = pos[1] + pos[3]/2.\n",
    "    fig.text(x_text, y_text, name, va='center', ha='right', fontsize=20)\n",
    "\n",
    "# Turn off *all* ticks & spines, not just the ones with colormaps.\n",
    "for ax in axes:\n",
    "    ax.set_axis_off()\n",
    "plot.savefig(f'scicm_diverging.png',dpi=200)\n",
    "plot.show()"
   ]
  },
  {
   "cell_type": "code",
   "execution_count": null,
   "id": "mysterious-variable",
   "metadata": {},
   "outputs": [],
   "source": [
    "fig,axes=sp.subplots(ncols=1,nrows=len(cmaps_miscellaneous),figsize=(10,(len(cmaps_miscellaneous)+1)*0.5),facecolor='white')\n",
    "fig.subplots_adjust(top=0.9, bottom=0.02, left=0.14, right=0.99)\n",
    "axes[0].set_title('Miscellaneous',fontsize=30)\n",
    "\n",
    "for ax,name in zip(axes,cmaps_miscellaneous):\n",
    "    ax.imshow(gradient, aspect='auto', cmap=f'scicm.{name}')\n",
    "    pos = list(ax.get_position().bounds)\n",
    "    x_text = pos[0] - 0.01\n",
    "    y_text = pos[1] + pos[3]/2.\n",
    "    fig.text(x_text, y_text, name, va='center', ha='right', fontsize=20)\n",
    "\n",
    "# Turn off *all* ticks & spines, not just the ones with colormaps.\n",
    "for ax in axes:\n",
    "    ax.set_axis_off()\n",
    "plot.savefig(f'scicm_miscellaneous.png',dpi=200)\n",
    "plot.show()"
   ]
  },
  {
   "cell_type": "markdown",
   "id": "stock-tonight",
   "metadata": {},
   "source": [
    "# Example for README"
   ]
  },
  {
   "cell_type": "code",
   "execution_count": null,
   "id": "after-difficulty",
   "metadata": {},
   "outputs": [],
   "source": [
    "import scicm\n",
    "import numpy as np\n",
    "import scipy.stats as stats\n",
    "import matplotlib.pyplot as plt\n",
    "\n",
    "%matplotlib inline"
   ]
  },
  {
   "cell_type": "code",
   "execution_count": null,
   "id": "mediterranean-incentive",
   "metadata": {},
   "outputs": [],
   "source": [
    "# Generating random data\n",
    "rng=np.random.default_rng()\n",
    "x=np.concatenate([rng.normal(-1,0.5,60000),rng.normal(1,0.8,40000)],axis=0)\n",
    "y=x+np.cos(x/3)*rng.normal(0,1,100000)"
   ]
  },
  {
   "cell_type": "code",
   "execution_count": null,
   "id": "sublime-guarantee",
   "metadata": {},
   "outputs": [],
   "source": [
    "# Plotting\n",
    "fig,axes=plt.subplots(nrows=2,ncols=2,figsize=(12,8),gridspec_kw=dict(wspace=0.0,hspace=0.0))\n",
    "\n",
    "axes[0,0].hexbin(x,y,lw=0,mincnt=1,cmap='scicm.Cyan') # Using the registered names with matplotlib\n",
    "axes[0,1].hexbin(x,y,lw=0,mincnt=1,cmap='scicm.C2G_r') # Reversing the colour map\n",
    "axes[1,0].hexbin(x,y,lw=0,mincnt=1,cmap=scicm.cm.PkO_r) # Using the colour map objects\n",
    "axes[1,1].hexbin(x,y,lw=0,mincnt=1,cmap=scicm.cm.Edges)\n",
    "\n",
    "for ax,txt in zip(axes.flatten(),['Cyan','C2G_r','PkO_r','Edges']):\n",
    "    ax.text(-3.1,4.6,txt,fontsize=20)\n",
    "    ax.set_xticks([])\n",
    "    ax.set_yticks([])\n",
    "\n",
    "plt.savefig(f'README_ex.png',dpi=200)\n",
    "plt.show()"
   ]
  },
  {
   "cell_type": "code",
   "execution_count": null,
   "id": "needed-california",
   "metadata": {},
   "outputs": [],
   "source": [
    "# Generating random image\n",
    "x=np.concatenate([rng.uniform(0,3,60000),rng.normal(0.6,0.15,20000),rng.normal(2.2,0.15,12000),rng.normal(1.8,0.15,8000)],axis=0)\n",
    "y=np.concatenate([rng.uniform(0,1,60000),rng.normal(0.4,0.15,20000),rng.normal(0.7,0.15,12000),rng.normal(0.2,0.15,8000)],axis=0)\n",
    "z=np.ones(len(x))\n",
    "\n",
    "def overdensity(data):\n",
    "    average_num=1e5/(120*40)\n",
    "    value=(np.sum(data)-average_num)/average_num\n",
    "    return(value)\n",
    "\n",
    "im=stats.binned_statistic_2d(x,y,z,bins=[np.linspace(0,3,121),np.linspace(0,1,41)],statistic=overdensity)"
   ]
  },
  {
   "cell_type": "code",
   "execution_count": null,
   "id": "eastern-advocate",
   "metadata": {},
   "outputs": [],
   "source": [
    "# Colour map cropping\n",
    "shortBkR=scicm.tools.crop('scicm.BkR',vmin=0.5*(1-(1-np.min(im[0]))/(np.max(im[0])-1)),vmax=1.0)\n",
    "\n",
    "fig,axes=plt.subplots(nrows=2,ncols=1,figsize=(12,8),gridspec_kw=dict(wspace=0.0,hspace=0.0),facecolor='w')\n",
    "h1=axes[0].hist2d(x,y,bins=[np.linspace(0,3,121),np.linspace(0,1,41)],cmap='scicm.Stone_r')\n",
    "h2=axes[1].pcolormesh(im[1],im[2],im[0].T,lw=0,cmap=shortBkR)\n",
    "\n",
    "for ax in axes.flatten():\n",
    "    ax.set_xticks([])\n",
    "    ax.set_yticks([])\n",
    "    ax.set_xlim([0,3])\n",
    "    ax.set_ylim([0,1])\n",
    "\n",
    "cbar0=fig.colorbar(h1[3],ax=axes[0])\n",
    "cbar0.set_label('number counts')\n",
    "cbar1=fig.colorbar(h2,ax=axes[1])\n",
    "cbar1.set_label('overdensity')\n",
    "\n",
    "plt.tight_layout()\n",
    "plt.savefig(f'README_ex2.png',dpi=200)\n",
    "plt.show()"
   ]
  },
  {
   "cell_type": "code",
   "execution_count": null,
   "id": "anticipated-nation",
   "metadata": {},
   "outputs": [],
   "source": [
    "# Colour map merging and stitching\n",
    "Edges_P2M=scicm.tools.merge(['scicm.P2M','scicm.Stone','scicm.P2M'],[0.25,0.75],'custom.Edges_P2M')\n",
    "G2Y2O=scicm.tools.stitch(['scicm.G2Y','scicm.O2Y_r'],np.array([[0,1],[0,1]]),[0.5],'custom.G2Y2O')\n",
    "\n",
    "fig,axes=plt.subplots(nrows=2,ncols=1,figsize=(12,8),gridspec_kw=dict(wspace=0.0,hspace=0.0),facecolor='w')\n",
    "h1=axes[0].hist2d(x,y,bins=[np.linspace(0,3,121),np.linspace(0,1,41)],cmap='custom.Edges_P2M')\n",
    "h2=axes[1].hist2d(x,y,bins=[np.linspace(0,3,121),np.linspace(0,1,41)],cmap='custom.G2Y2O')\n",
    "\n",
    "for ax in axes.flatten():\n",
    "    ax.set_xticks([])\n",
    "    ax.set_yticks([])\n",
    "    ax.set_xlim([0,3])\n",
    "    ax.set_ylim([0,1])\n",
    "\n",
    "cbar0=fig.colorbar(h1[3],ax=axes[0])\n",
    "cbar0.set_label('')\n",
    "cbar1=fig.colorbar(h2[3],ax=axes[1])\n",
    "cbar1.set_label('')\n",
    "\n",
    "plt.tight_layout()\n",
    "plt.savefig(f'README_ex3.png',dpi=200)\n",
    "plt.show()"
   ]
  },
  {
   "cell_type": "code",
   "execution_count": null,
   "id": "recent-canvas",
   "metadata": {},
   "outputs": [],
   "source": []
  }
 ],
 "metadata": {
  "kernelspec": {
   "display_name": "Python 3",
   "language": "python",
   "name": "python3"
  },
  "language_info": {
   "codemirror_mode": {
    "name": "ipython",
    "version": 3
   },
   "file_extension": ".py",
   "mimetype": "text/x-python",
   "name": "python",
   "nbconvert_exporter": "python",
   "pygments_lexer": "ipython3",
   "version": "3.8.5"
  }
 },
 "nbformat": 4,
 "nbformat_minor": 5
}
