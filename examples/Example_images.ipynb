{
 "cells": [
  {
   "cell_type": "code",
   "execution_count": null,
   "id": "satisfied-fantasy",
   "metadata": {},
   "outputs": [],
   "source": [
    "import scicm\n",
    "import numpy as np\n",
    "import splotch as sp\n",
    "import matplotlib.pyplot as plot\n",
    "%matplotlib inline"
   ]
  },
  {
   "cell_type": "code",
   "execution_count": null,
   "id": "contemporary-profession",
   "metadata": {},
   "outputs": [],
   "source": [
    "cmaps_linear1=['Blue','Cyan','Green','Magenta','Orange','Purple','Red','Stone','Yellow']\n",
    "cmaps_linear2=['B2C','B2P','C2G','G2Y','M2R','O2Y','P2M','R2O']\n",
    "cmaps_diverging=['BkG','BkR','BwR','CkO','GkP','GwP','PkO','YkM']\n",
    "cmaps_miscellaneous=['Day','Night','Garnet','Ripe','Tropical','Edges','Quartile']"
   ]
  },
  {
   "cell_type": "code",
   "execution_count": null,
   "id": "differential-frank",
   "metadata": {},
   "outputs": [],
   "source": [
    "gradient=np.linspace(0,1,256)\n",
    "gradient=np.vstack((gradient,gradient))"
   ]
  },
  {
   "cell_type": "markdown",
   "id": "equal-reform",
   "metadata": {},
   "source": [
    "# Colour map samples"
   ]
  },
  {
   "cell_type": "code",
   "execution_count": null,
   "id": "charming-spain",
   "metadata": {},
   "outputs": [],
   "source": [
    "fig,axes=sp.subplots(ncols=1,nrows=len(cmaps_linear1),figsize=(10,(len(cmaps_linear1)+1)*0.6),facecolor='white')\n",
    "fig.subplots_adjust(top=0.9, bottom=0.02, left=0.14, right=0.99)\n",
    "axes[0].set_title('linear1',fontsize=30)\n",
    "\n",
    "for ax,name in zip(axes,cmaps_linear1):\n",
    "    ax.imshow(gradient, aspect='auto', cmap=f'scicm.{name}')\n",
    "    pos = list(ax.get_position().bounds)\n",
    "    x_text = pos[0] - 0.01\n",
    "    y_text = pos[1] + pos[3]/2.\n",
    "    fig.text(x_text, y_text, name, va='center', ha='right', fontsize=20)\n",
    "\n",
    "# Turn off *all* ticks & spines, not just the ones with colormaps.\n",
    "for ax in axes:\n",
    "    ax.set_axis_off()\n",
    "plot.savefig(f'scicm_linear1.png',dpi=200)\n",
    "plot.show()"
   ]
  },
  {
   "cell_type": "code",
   "execution_count": null,
   "id": "assigned-parking",
   "metadata": {
    "scrolled": false
   },
   "outputs": [],
   "source": [
    "fig,axes=sp.subplots(ncols=1,nrows=len(cmaps_linear2),figsize=(10,(len(cmaps_linear1)+1)*0.5),facecolor='white')\n",
    "fig.subplots_adjust(top=0.9, bottom=0.02, left=0.14, right=0.99)\n",
    "axes[0].set_title('linear2',fontsize=30)\n",
    "\n",
    "for ax,name in zip(axes,cmaps_linear2):\n",
    "    ax.imshow(gradient, aspect='auto', cmap=f'scicm.{name}')\n",
    "    pos = list(ax.get_position().bounds)\n",
    "    x_text = pos[0] - 0.01\n",
    "    y_text = pos[1] + pos[3]/2.\n",
    "    fig.text(x_text, y_text, name, va='center', ha='right', fontsize=20)\n",
    "\n",
    "# Turn off *all* ticks & spines, not just the ones with colormaps.\n",
    "for ax in axes:\n",
    "    ax.set_axis_off()\n",
    "plot.savefig(f'scicm_linear2.png',dpi=200)\n",
    "plot.show()"
   ]
  },
  {
   "cell_type": "code",
   "execution_count": null,
   "id": "injured-perfume",
   "metadata": {},
   "outputs": [],
   "source": [
    "fig,axes=sp.subplots(ncols=1,nrows=len(cmaps_diverging),figsize=(10,(len(cmaps_linear1)+1)*0.5),facecolor='white')\n",
    "fig.subplots_adjust(top=0.9, bottom=0.02, left=0.14, right=0.99)\n",
    "axes[0].set_title('diverging',fontsize=30)\n",
    "\n",
    "for ax,name in zip(axes,cmaps_diverging):\n",
    "    ax.imshow(gradient, aspect='auto', cmap=f'scicm.{name}')\n",
    "    pos = list(ax.get_position().bounds)\n",
    "    x_text = pos[0] - 0.01\n",
    "    y_text = pos[1] + pos[3]/2.\n",
    "    fig.text(x_text, y_text, name, va='center', ha='right', fontsize=20)\n",
    "\n",
    "# Turn off *all* ticks & spines, not just the ones with colormaps.\n",
    "for ax in axes:\n",
    "    ax.set_axis_off()\n",
    "plot.savefig(f'scicm_diverging.png',dpi=200)\n",
    "plot.show()"
   ]
  },
  {
   "cell_type": "code",
   "execution_count": null,
   "id": "complicated-constitution",
   "metadata": {},
   "outputs": [],
   "source": [
    "fig,axes=sp.subplots(ncols=1,nrows=len(cmaps_miscellaneous),figsize=(10,(len(cmaps_linear1)+1)*0.5),facecolor='white')\n",
    "fig.subplots_adjust(top=0.9, bottom=0.02, left=0.14, right=0.99)\n",
    "axes[0].set_title('miscellaneous',fontsize=30)\n",
    "\n",
    "for ax,name in zip(axes,cmaps_miscellaneous):\n",
    "    ax.imshow(gradient, aspect='auto', cmap=f'scicm.{name}')\n",
    "    pos = list(ax.get_position().bounds)\n",
    "    x_text = pos[0] - 0.01\n",
    "    y_text = pos[1] + pos[3]/2.\n",
    "    fig.text(x_text, y_text, name, va='center', ha='right', fontsize=20)\n",
    "\n",
    "# Turn off *all* ticks & spines, not just the ones with colormaps.\n",
    "for ax in axes:\n",
    "    ax.set_axis_off()\n",
    "plot.savefig(f'scicm_miscellaneous.png',dpi=200)\n",
    "plot.show()"
   ]
  },
  {
   "cell_type": "markdown",
   "id": "ordered-asbestos",
   "metadata": {},
   "source": [
    "# Example for README"
   ]
  },
  {
   "cell_type": "code",
   "execution_count": null,
   "id": "patient-canadian",
   "metadata": {},
   "outputs": [],
   "source": [
    "import scicm\n",
    "import numpy as np\n",
    "import matplotlib.pyplot as plt\n",
    "import matplotlib.gridspec as gs\n",
    "%matplotlib inline"
   ]
  },
  {
   "cell_type": "code",
   "execution_count": null,
   "id": "portable-saturday",
   "metadata": {},
   "outputs": [],
   "source": [
    "rng=np.random.default_rng()\n",
    "x=np.concatenate([rng.normal(-1,0.5,60000),rng.normal(1,0.8,40000)],axis=0)\n",
    "y=x+np.cos(x/3)*rng.normal(0,1,100000)"
   ]
  },
  {
   "cell_type": "code",
   "execution_count": null,
   "id": "textile-masters",
   "metadata": {},
   "outputs": [],
   "source": [
    "fig=plt.figure(figsize=(12,8))\n",
    "spec=gs.GridSpec(nrows=2,ncols=2,figure=fig,wspace=0,hspace=0,left=0.0,right=0.999,bottom=0.001,top=1.0)\n",
    "fax=[fig.add_subplot(spec[0,0]),fig.add_subplot(spec[0,1]),fig.add_subplot(spec[1,0]),fig.add_subplot(spec[1,1])]\n",
    "\n",
    "for f in fax:\n",
    "    f.set_xticks([])\n",
    "    f.set_yticks([])\n",
    "\n",
    "fax[0].hexbin(x,y,lw=0,cmap='scicm.Cyan',mincnt=1)\n",
    "fax[0].text(-3.3,4.6,'Cyan',fontsize=20)\n",
    "fax[1].hexbin(x,y,lw=0,cmap='scicm.C2G_r',mincnt=1)\n",
    "fax[1].text(-3.3,4.6,'C2G_r',fontsize=20)\n",
    "fax[2].hexbin(x,y,lw=0,cmap=scicm.cm.PkO_r,mincnt=1)\n",
    "fax[2].text(-3.3,4.6,'PkO_r',fontsize=20)\n",
    "fax[3].hexbin(x,y,lw=0,cmap=scicm.cm.Edges,mincnt=1)\n",
    "fax[3].text(-3.3,4.6,'Edges',fontsize=20)\n",
    "\n",
    "plt.savefig('README_ex.png',dpi=100)\n",
    "plt.show()"
   ]
  },
  {
   "cell_type": "code",
   "execution_count": null,
   "id": "gorgeous-nitrogen",
   "metadata": {},
   "outputs": [],
   "source": []
  }
 ],
 "metadata": {
  "kernelspec": {
   "display_name": "Python 3",
   "language": "python",
   "name": "python3"
  },
  "language_info": {
   "codemirror_mode": {
    "name": "ipython",
    "version": 3
   },
   "file_extension": ".py",
   "mimetype": "text/x-python",
   "name": "python",
   "nbconvert_exporter": "python",
   "pygments_lexer": "ipython3",
   "version": "3.8.5"
  }
 },
 "nbformat": 4,
 "nbformat_minor": 5
}
