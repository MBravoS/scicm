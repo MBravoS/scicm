{
 "cells": [
  {
   "cell_type": "code",
   "execution_count": null,
   "id": "color-amber",
   "metadata": {},
   "outputs": [],
   "source": [
    "import scicm\n",
    "import numpy as np\n",
    "import splotch as sp\n",
    "import matplotlib.pyplot as plot\n",
    "\n",
    "%matplotlib inline"
   ]
  },
  {
   "cell_type": "code",
   "execution_count": null,
   "id": "prime-cabinet",
   "metadata": {},
   "outputs": [],
   "source": [
    "cmaps_monochromat=['Blue','Cyan','Green','Magenta','Orange','Purple','Red','Stone','Teal','Yellow']\n",
    "cmaps_soft=['SoftBlue','SoftGreen','SoftMagenta','SoftOrange','SoftPurple','SoftRed','SoftTeal','SoftYellow']\n",
    "cmaps_dichromat=['B2P','B2T','G2Y','M2R','O2Y','P2M','R2O','T2G']\n",
    "cmaps_diverging=['BkG','BkR','BkY','GkP','MkY','OkP','TkO','BwG','BwR','GwP']\n",
    "cmaps_miscellaneous=['Day','Night','Garnet','Ripe','Tropical','Edges','Quartile']"
   ]
  },
  {
   "cell_type": "code",
   "execution_count": null,
   "id": "latest-differential",
   "metadata": {},
   "outputs": [],
   "source": [
    "gradient=np.linspace(0,1,256)\n",
    "gradient=np.vstack((gradient,gradient))"
   ]
  },
  {
   "cell_type": "markdown",
   "id": "qualified-economy",
   "metadata": {},
   "source": [
    "# Colour map samples"
   ]
  },
  {
   "cell_type": "code",
   "execution_count": null,
   "id": "presidential-captain",
   "metadata": {},
   "outputs": [],
   "source": [
    "fig,axes=sp.subplots(ncols=1,nrows=len(cmaps_monochromat),figsize=(12,len(cmaps_monochromat)*0.6+1),facecolor='white')\n",
    "fig.subplots_adjust(top=0.9, bottom=0.02, left=0.17, right=0.99)\n",
    "axes[0].set_title('Monochromatic',fontsize=30)\n",
    "\n",
    "for ax, name in zip(axes,cmaps_monochromat):\n",
    "    ax.imshow(gradient, aspect='auto', cmap=f'scicm.{name}')\n",
    "    pos = list(ax.get_position().bounds)\n",
    "    x_text = pos[0] - 0.01\n",
    "    y_text = pos[1] + pos[3]/2.\n",
    "    fig.text(x_text, y_text, name, va='center', ha='right', fontsize=20)\n",
    "\n",
    "# Turn off *all* ticks & spines, not just the ones with colormaps.\n",
    "for ax in axes:\n",
    "    ax.set_axis_off()\n",
    "plot.savefig(f'scicm_monochromatic.png',dpi=200)\n",
    "plot.show()"
   ]
  },
  {
   "cell_type": "code",
   "execution_count": null,
   "id": "raising-building",
   "metadata": {},
   "outputs": [],
   "source": [
    "fig,axes=sp.subplots(ncols=1,nrows=len(cmaps_soft),figsize=(12,len(cmaps_soft)*0.6+1),facecolor='white')\n",
    "fig.subplots_adjust(top=0.9, bottom=0.02, left=0.17, right=0.99)\n",
    "axes[0].set_title('Soft',fontsize=30)\n",
    "\n",
    "for ax, name in zip(axes,cmaps_soft):\n",
    "    ax.imshow(gradient, aspect='auto', cmap=f'scicm.{name}')\n",
    "    pos = list(ax.get_position().bounds)\n",
    "    x_text = pos[0] - 0.01\n",
    "    y_text = pos[1] + pos[3]/2.\n",
    "    fig.text(x_text, y_text, name, va='center', ha='right', fontsize=20)\n",
    "\n",
    "# Turn off *all* ticks & spines, not just the ones with colormaps.\n",
    "for ax in axes:\n",
    "    ax.set_axis_off()\n",
    "plot.savefig(f'scicm_soft.png',dpi=200)\n",
    "plot.show()"
   ]
  },
  {
   "cell_type": "code",
   "execution_count": null,
   "id": "confused-insertion",
   "metadata": {
    "scrolled": false
   },
   "outputs": [],
   "source": [
    "fig,axes = sp.subplots(ncols=1,nrows=len(cmaps_dichromat),figsize=(12,len(cmaps_dichromat)*0.6+1),facecolor='white')\n",
    "fig.subplots_adjust(top=0.9, bottom=0.02, left=0.17, right=0.99)\n",
    "axes[0].set_title('Bichromatic',fontsize=30)\n",
    "\n",
    "for ax,name in zip(axes,cmaps_dichromat):\n",
    "    ax.imshow(gradient, aspect='auto', cmap=f'scicm.{name}')\n",
    "    pos = list(ax.get_position().bounds)\n",
    "    x_text = pos[0] - 0.01\n",
    "    y_text = pos[1] + pos[3]/2.\n",
    "    fig.text(x_text, y_text, name, va='center', ha='right', fontsize=20)\n",
    "\n",
    "# Turn off *all* ticks & spines, not just the ones with colormaps.\n",
    "for ax in axes:\n",
    "    ax.set_axis_off()\n",
    "plot.savefig(f'scicm_bichromatic.png',dpi=200)\n",
    "plot.show()"
   ]
  },
  {
   "cell_type": "code",
   "execution_count": null,
   "id": "narrow-trademark",
   "metadata": {},
   "outputs": [],
   "source": [
    "fig,axes=sp.subplots(ncols=1,nrows=len(cmaps_diverging),figsize=(12,len(cmaps_diverging)*0.6+1),facecolor='white')\n",
    "fig.subplots_adjust(top=0.9, bottom=0.02, left=0.17, right=0.99)\n",
    "axes[0].set_title('Diverging',fontsize=30)\n",
    "\n",
    "for ax,name in zip(axes,cmaps_diverging):\n",
    "    ax.imshow(gradient, aspect='auto', cmap=f'scicm.{name}')\n",
    "    pos = list(ax.get_position().bounds)\n",
    "    x_text = pos[0] - 0.01\n",
    "    y_text = pos[1] + pos[3]/2.\n",
    "    fig.text(x_text, y_text, name, va='center', ha='right', fontsize=20)\n",
    "\n",
    "# Turn off *all* ticks & spines, not just the ones with colormaps.\n",
    "for ax in axes:\n",
    "    ax.set_axis_off()\n",
    "plot.savefig(f'scicm_diverging.png',dpi=200)\n",
    "plot.show()"
   ]
  },
  {
   "cell_type": "code",
   "execution_count": null,
   "id": "mysterious-variable",
   "metadata": {},
   "outputs": [],
   "source": [
    "fig,axes=sp.subplots(ncols=1,nrows=len(cmaps_miscellaneous),figsize=(12,len(cmaps_miscellaneous)*0.6+1),facecolor='white')\n",
    "fig.subplots_adjust(top=0.9, bottom=0.02, left=0.17, right=0.99)\n",
    "axes[0].set_title('Miscellaneous',fontsize=30)\n",
    "\n",
    "for ax,name in zip(axes,cmaps_miscellaneous):\n",
    "    ax.imshow(gradient, aspect='auto', cmap=f'scicm.{name}')\n",
    "    pos = list(ax.get_position().bounds)\n",
    "    x_text = pos[0] - 0.01\n",
    "    y_text = pos[1] + pos[3]/2.\n",
    "    fig.text(x_text, y_text, name, va='center', ha='right', fontsize=20)\n",
    "\n",
    "# Turn off *all* ticks & spines, not just the ones with colormaps.\n",
    "for ax in axes:\n",
    "    ax.set_axis_off()\n",
    "plot.savefig(f'scicm_miscellaneous.png',dpi=200)\n",
    "plot.show()"
   ]
  },
  {
   "cell_type": "markdown",
   "id": "stock-tonight",
   "metadata": {},
   "source": [
    "# Example for README"
   ]
  },
  {
   "cell_type": "code",
   "execution_count": null,
   "id": "after-difficulty",
   "metadata": {},
   "outputs": [],
   "source": [
    "import scicm\n",
    "import numpy as np\n",
    "import matplotlib.pyplot as plt\n",
    "import matplotlib.colors as col\n",
    "\n",
    "%matplotlib inline"
   ]
  },
  {
   "cell_type": "code",
   "execution_count": null,
   "id": "mediterranean-incentive",
   "metadata": {},
   "outputs": [],
   "source": [
    "# Generating random data\n",
    "rng=np.random.default_rng()\n",
    "x=np.concatenate([rng.normal(0,0.5,100000),rng.normal(1,0.5,100000)])\n",
    "y=np.concatenate([rng.normal(0,0.5,60000),rng.normal(1,0.5,60000),rng.normal(-1,0.5,80000)])\n",
    "z=np.concatenate([rng.uniform(0,0.2,60000),rng.uniform(0.2,0.5,60000),rng.uniform(0.5,1,80000)])"
   ]
  },
  {
   "cell_type": "code",
   "execution_count": null,
   "id": "sublime-guarantee",
   "metadata": {},
   "outputs": [],
   "source": [
    "# Plotting\n",
    "faint_white=np.array(col.to_rgba('white'))\n",
    "faint_white[-1]=0.8\n",
    "\n",
    "fig,axes=plt.subplots(nrows=3,ncols=2,figsize=(12,12),gridspec_kw=dict(wspace=0.0,hspace=0.0))\n",
    "\n",
    "axes[0,0].hexbin(x,y,lw=0,cmap='scicm.Teal') # Example of a monochromatic map, using the registered names with matplotlib\n",
    "axes[0,1].hexbin(x,y,lw=0,cmap=scicm.cm.SoftTeal) # Example of a soft map, using the colour map objects\n",
    "axes[1,0].hexbin(x,y,lw=0,cmap='scicm.M2R_r') # Example of a bichromatic map, reversing the colour map\n",
    "axes[1,1].hexbin(x,y,lw=0,cmap='scicm.PkO') # Example of a diverging map\n",
    "axes[2,0].hexbin(x,y,lw=0,cmap='scicm.Edges') # Example of a segmented map\n",
    "axes[2,1].hexbin(x,y,lw=0,cmap='scicm.Tropical') # Example of a miscellaneous map\n",
    "\n",
    "for ax,txt in zip(axes.flatten(),['Teal','SoftTeal','MkR_r','PkO','Edges','Tropical']):\n",
    "    ax.text(-1.8,2.2,txt,fontsize=20,backgroundcolor=faint_white)\n",
    "    ax.set_xticks([])\n",
    "    ax.set_yticks([])\n",
    "    ax.set_xlim([-2,3])\n",
    "    ax.set_ylim([-3,3])\n",
    "\n",
    "plt.tight_layout()\n",
    "plt.savefig(f'README_ex1.png',dpi=200)\n",
    "plt.show()"
   ]
  },
  {
   "cell_type": "code",
   "execution_count": null,
   "id": "eastern-advocate",
   "metadata": {},
   "outputs": [],
   "source": [
    "# Colour map cropping\n",
    "cropped_Bkr=scicm.tools.crop('scicm.BkR',vmin=0.2,vmax=1.0)\n",
    "\n",
    "fig,axes=plt.subplots(nrows=1,ncols=2,figsize=(12,4),gridspec_kw=dict(wspace=0.0,hspace=0.0),facecolor='w')\n",
    "h1=axes[0].hexbin(x,y,C=z,lw=0,cmap='scicm.BkR')\n",
    "h2=axes[1].hexbin(x,y,C=z,lw=0,cmap=cropped_Bkr)\n",
    "\n",
    "for ax,txt in zip(axes.flatten(),['scicm.BkR','cropped_Bkr']):\n",
    "    ax.text(-1.8,2.2,txt,fontsize=20,backgroundcolor=faint_white)\n",
    "    ax.set_xticks([])\n",
    "    ax.set_yticks([])\n",
    "    ax.set_xlim([-2,3])\n",
    "    ax.set_ylim([-3,3])\n",
    "\n",
    "cbar0=fig.colorbar(h1,ax=axes[0])\n",
    "cbar0.set_label('mean value')\n",
    "cbar1=fig.colorbar(h2,ax=axes[1])\n",
    "cbar1.set_label('mean value')\n",
    "\n",
    "plt.tight_layout()\n",
    "plt.savefig(f'README_ex2.png',dpi=200)\n",
    "plt.show()"
   ]
  },
  {
   "cell_type": "code",
   "execution_count": null,
   "id": "anticipated-nation",
   "metadata": {},
   "outputs": [],
   "source": [
    "# Colour map merging and stitching\n",
    "Edges_M2R=scicm.tools.merge(['scicm.Stone','scicm.M2R','scicm.Stone'],[0.2,0.5],'custom.Edges_M2R')\n",
    "T2B2P=scicm.tools.stitch(['scicm.B2T_r','scicm.B2P'],np.array([[0,1],[0,1]]),[0.5],'custom.T2B2P')\n",
    "\n",
    "fig,axes=plt.subplots(nrows=1,ncols=2,figsize=(12,4),gridspec_kw=dict(wspace=0.0,hspace=0.0),facecolor='w')\n",
    "h1=axes[0].hexbin(x,y,C=z,cmap='custom.Edges_M2R')\n",
    "h2=axes[1].hexbin(x,y,C=z,cmap='custom.T2B2P')\n",
    "\n",
    "for ax,txt in zip(axes.flatten(),['custom.Edges_M2R','custom.T2B2P']):\n",
    "    ax.text(-1.8,2.2,txt,fontsize=20,backgroundcolor=faint_white)\n",
    "    ax.set_xticks([])\n",
    "    ax.set_yticks([])\n",
    "    ax.set_xlim([-2,3])\n",
    "    ax.set_ylim([-3,3])\n",
    "\n",
    "cbar0=fig.colorbar(h1,ax=axes[0])\n",
    "cbar0.set_label('mean value')\n",
    "cbar1=fig.colorbar(h2,ax=axes[1])\n",
    "cbar1.set_label('mean value')\n",
    "\n",
    "plt.tight_layout()\n",
    "plt.savefig(f'README_ex3.png',dpi=200)\n",
    "plt.show()"
   ]
  },
  {
   "cell_type": "code",
   "execution_count": null,
   "id": "recent-canvas",
   "metadata": {},
   "outputs": [],
   "source": []
  }
 ],
 "metadata": {
  "kernelspec": {
   "display_name": "Python 3",
   "language": "python",
   "name": "python3"
  },
  "language_info": {
   "codemirror_mode": {
    "name": "ipython",
    "version": 3
   },
   "file_extension": ".py",
   "mimetype": "text/x-python",
   "name": "python",
   "nbconvert_exporter": "python",
   "pygments_lexer": "ipython3",
   "version": "3.8.5"
  }
 },
 "nbformat": 4,
 "nbformat_minor": 5
}
